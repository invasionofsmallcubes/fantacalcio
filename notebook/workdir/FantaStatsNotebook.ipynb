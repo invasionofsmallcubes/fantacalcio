{
 "cells": [
  {
   "cell_type": "markdown",
   "metadata": {},
   "source": [
    "# Per iniziare clicca su *Cell* nella barra e poi clicca su *Run all below*"
   ]
  },
  {
   "cell_type": "markdown",
   "metadata": {},
   "source": [
    "Inizializzazione del contesto Spark.\n",
    "\n",
    "Nota:\n",
    "> Il contesto si può lanciare una sola volta perché una volta caricato rimane online\n",
    "> \n",
    "> Per lanciare le singole celle usa il tasto *Run*"
   ]
  },
  {
   "cell_type": "code",
   "execution_count": 500,
   "metadata": {},
   "outputs": [
    {
     "ename": "ValueError",
     "evalue": "Cannot run multiple SparkContexts at once; existing SparkContext(app=FantaStats, master=local) created by __init__ at <ipython-input-2-7ae76705822f>:4 ",
     "output_type": "error",
     "traceback": [
      "\u001b[0;31m---------------------------------------------------------------------------\u001b[0m",
      "\u001b[0;31mValueError\u001b[0m                                Traceback (most recent call last)",
      "\u001b[0;32m<ipython-input-500-7ae76705822f>\u001b[0m in \u001b[0;36m<module>\u001b[0;34m\u001b[0m\n\u001b[1;32m      2\u001b[0m \u001b[0;32mfrom\u001b[0m \u001b[0mpyspark\u001b[0m\u001b[0;34m.\u001b[0m\u001b[0msql\u001b[0m \u001b[0;32mimport\u001b[0m \u001b[0mSQLContext\u001b[0m\u001b[0;34m\u001b[0m\u001b[0;34m\u001b[0m\u001b[0m\n\u001b[1;32m      3\u001b[0m \u001b[0;34m\u001b[0m\u001b[0m\n\u001b[0;32m----> 4\u001b[0;31m \u001b[0msc\u001b[0m \u001b[0;34m=\u001b[0m \u001b[0mSparkContext\u001b[0m\u001b[0;34m(\u001b[0m\u001b[0;34m\"local\"\u001b[0m\u001b[0;34m,\u001b[0m \u001b[0;34m\"FantaStats\"\u001b[0m\u001b[0;34m)\u001b[0m\u001b[0;34m\u001b[0m\u001b[0;34m\u001b[0m\u001b[0m\n\u001b[0m\u001b[1;32m      5\u001b[0m \u001b[0mspark\u001b[0m \u001b[0;34m=\u001b[0m \u001b[0mSQLContext\u001b[0m\u001b[0;34m(\u001b[0m\u001b[0msc\u001b[0m\u001b[0;34m)\u001b[0m\u001b[0;34m\u001b[0m\u001b[0;34m\u001b[0m\u001b[0m\n",
      "\u001b[0;32m/usr/local/spark/python/pyspark/context.py\u001b[0m in \u001b[0;36m__init__\u001b[0;34m(self, master, appName, sparkHome, pyFiles, environment, batchSize, serializer, conf, gateway, jsc, profiler_cls)\u001b[0m\n\u001b[1;32m    131\u001b[0m                     \" note this option will be removed in Spark 3.0\")\n\u001b[1;32m    132\u001b[0m \u001b[0;34m\u001b[0m\u001b[0m\n\u001b[0;32m--> 133\u001b[0;31m         \u001b[0mSparkContext\u001b[0m\u001b[0;34m.\u001b[0m\u001b[0m_ensure_initialized\u001b[0m\u001b[0;34m(\u001b[0m\u001b[0mself\u001b[0m\u001b[0;34m,\u001b[0m \u001b[0mgateway\u001b[0m\u001b[0;34m=\u001b[0m\u001b[0mgateway\u001b[0m\u001b[0;34m,\u001b[0m \u001b[0mconf\u001b[0m\u001b[0;34m=\u001b[0m\u001b[0mconf\u001b[0m\u001b[0;34m)\u001b[0m\u001b[0;34m\u001b[0m\u001b[0;34m\u001b[0m\u001b[0m\n\u001b[0m\u001b[1;32m    134\u001b[0m         \u001b[0;32mtry\u001b[0m\u001b[0;34m:\u001b[0m\u001b[0;34m\u001b[0m\u001b[0;34m\u001b[0m\u001b[0m\n\u001b[1;32m    135\u001b[0m             self._do_init(master, appName, sparkHome, pyFiles, environment, batchSize, serializer,\n",
      "\u001b[0;32m/usr/local/spark/python/pyspark/context.py\u001b[0m in \u001b[0;36m_ensure_initialized\u001b[0;34m(cls, instance, gateway, conf)\u001b[0m\n\u001b[1;32m    330\u001b[0m                         \u001b[0;34m\" created by %s at %s:%s \"\u001b[0m\u001b[0;34m\u001b[0m\u001b[0;34m\u001b[0m\u001b[0m\n\u001b[1;32m    331\u001b[0m                         % (currentAppName, currentMaster,\n\u001b[0;32m--> 332\u001b[0;31m                             callsite.function, callsite.file, callsite.linenum))\n\u001b[0m\u001b[1;32m    333\u001b[0m                 \u001b[0;32melse\u001b[0m\u001b[0;34m:\u001b[0m\u001b[0;34m\u001b[0m\u001b[0;34m\u001b[0m\u001b[0m\n\u001b[1;32m    334\u001b[0m                     \u001b[0mSparkContext\u001b[0m\u001b[0;34m.\u001b[0m\u001b[0m_active_spark_context\u001b[0m \u001b[0;34m=\u001b[0m \u001b[0minstance\u001b[0m\u001b[0;34m\u001b[0m\u001b[0;34m\u001b[0m\u001b[0m\n",
      "\u001b[0;31mValueError\u001b[0m: Cannot run multiple SparkContexts at once; existing SparkContext(app=FantaStats, master=local) created by __init__ at <ipython-input-2-7ae76705822f>:4 "
     ]
    }
   ],
   "source": [
    "from pyspark import SparkContext\n",
    "from pyspark.sql import SQLContext\n",
    "\n",
    "sc = SparkContext(\"local\", \"FantaStats\")\n",
    "spark = SQLContext(sc)"
   ]
  },
  {
   "cell_type": "markdown",
   "metadata": {},
   "source": [
    "Nel seguente blocco ci vanno le funzioni:\n",
    "- `loadCSV` si usa per caricare i file e per normalizzare i nomi dei calciatori.\n",
    "- `prefix` si usa per aggiungere un prefisso ai nomi dei campi in modo da riconoscerli"
   ]
  },
  {
   "cell_type": "code",
   "execution_count": 501,
   "metadata": {},
   "outputs": [],
   "source": [
    "from pyspark.sql.functions import *\n",
    "from pyspark.sql.types import *\n",
    "\n",
    "def loadCSV(sdf, filename):\n",
    "    df = sdf.load(filename)\n",
    "    return df\n",
    "\n",
    "def prefix(sdf, prefix):\n",
    "      for c in sdf.columns:\n",
    "          sdf = sdf.withColumnRenamed(c, '{}{}'.format(prefix, c))\n",
    "      return sdf\n",
    "\n",
    "def showValues(sdf, field):\n",
    "    sdf.select(\"c_Nome\",field + \" Pond\", \"_2018_\"+field, \"_2017_\"+field, \"_2016_\"+field, \"_2015_\"+field, field+\"W2018\", field+\"W2017\", field+\"W2016\", field+\"W2015\").show()\n",
    "\n",
    "def drop_fields(finalRoster, field):\n",
    "    columns_to_drop = [\"_2017_\"+field, \"_2016_\"+field, \"_2015_\"+field]\n",
    "    finalRoster = finalRoster.drop(*columns_to_drop)\n",
    "    columns_to_drop = [field+\"W2018\", field+\"W2017\", field+\"W2016\", field+\"W2015\"]\n",
    "    finalRoster = finalRoster.drop(*columns_to_drop)\n",
    "    return finalRoster\n",
    "\n",
    "def weight_mean(finalRoster, field):\n",
    "    weight_no = 0\n",
    "    weight_2018 = 5\n",
    "    weight_2017 = 3\n",
    "    weight_2016 = 2\n",
    "    weight_2015 = 1\n",
    "    \n",
    "    finalRoster = finalRoster.withColumn(field+\"W2018\", when(col(\"_2018_\"+field).isNull() | col(\"_2018_\"+field).eqNullSafe(0), lit(weight_no)).otherwise(lit(weight_2018)))\n",
    "    finalRoster = finalRoster.withColumn(\"_2018_\"+field, when(col(\"_2018_\"+field).isNull(), lit(weight_no)).otherwise(col(\"_2018_\"+field)))\n",
    "\n",
    "    finalRoster = finalRoster.withColumn(field+\"W2017\", when(col(\"_2017_\"+field).isNull() | col(\"_2017_\"+field).eqNullSafe(0), lit(weight_no)).otherwise(lit(weight_2017)))\n",
    "    finalRoster = finalRoster.withColumn(\"_2017_\"+field, when(col(\"_2017_\"+field).isNull(), lit(weight_no)).otherwise(col(\"_2017_\"+field)))\n",
    "\n",
    "    finalRoster = finalRoster.withColumn(field+\"W2016\", when(col(\"_2016_\"+field).isNull() | col(\"_2016_\"+field).eqNullSafe(0), lit(weight_no)).otherwise(lit(weight_2016)))\n",
    "    finalRoster = finalRoster.withColumn(\"_2016_\"+field, when(col(\"_2016_\"+field).isNull(), lit(weight_no)).otherwise(col(\"_2016_\"+field)))\n",
    "\n",
    "    finalRoster = finalRoster.withColumn(field+\"W2015\", when(col(\"_2015_\"+field).isNull() | col(\"_2015_\"+field).eqNullSafe(0), lit(weight_no)).otherwise(lit(weight_2015)))\n",
    "    finalRoster = finalRoster.withColumn(\"_2015_\"+field, when(col(\"_2015_\"+field).isNull(), lit(weight_no)).otherwise(col(\"_2015_\"+field)))\n",
    "\n",
    "    finalRoster = finalRoster.withColumn(field+\" Pond\", (col(\"_2018_\"+field)*col(field+\"W2018\") + col(\"_2017_\"+field)*col(field+\"W2017\") + col(\"_2016_\"+field)*col(field+\"W2016\") + col(\"_2015_\"+field)*col(field+\"W2015\"))/(col(field+\"W2018\")+col(field+\"W2017\")+col(field+\"W2016\")+col(field+\"W2015\")))\n",
    "    finalRoster = finalRoster.withColumn(field+\" Pond\", when(col(field+\" Pond\").isNull(), lit(0)).otherwise(lit(col(field+\" Pond\"))))\n",
    "                                                                                       \n",
    "    return finalRoster    \n",
    "\n",
    "def weight_fields(finalRoster, field, name):\n",
    "    \n",
    "    finalRoster = weight_mean(finalRoster, field)\n",
    "    finalRoster = drop_fields(finalRoster, field)\n",
    "\n",
    "    finalRoster = finalRoster.withColumnRenamed(\"_2018_\"+field, name)\n",
    "\n",
    "    return finalRoster"
   ]
  },
  {
   "cell_type": "markdown",
   "metadata": {},
   "source": [
    "Qui si caricano i file in memoria.\n",
    "\n",
    "la variable `current_players` ha le informazioni relativamente ai giocatori della stagione *2019-2020* con la loro quotazione."
   ]
  },
  {
   "cell_type": "code",
   "execution_count": 507,
   "metadata": {},
   "outputs": [],
   "source": [
    "csvContext = spark.read.format(\"csv\").option(\"header\", \"true\").option(\"delimiter\", \";\")\n",
    "\n",
    "players_2015 = prefix(loadCSV(csvContext, \"Statistiche_Fantacalcio_2015-16.csv\"), \"_2015_\")\n",
    "players_2016 = prefix(loadCSV(csvContext, \"Statistiche_Fantacalcio_2016-17.csv\"), \"_2016_\")\n",
    "players_2017 = prefix(loadCSV(csvContext, \"Statistiche_Fantacalcio_2017-18.csv\"), \"_2017_\")\n",
    "players_2018 = prefix(loadCSV(csvContext, \"Statistiche_Fantacalcio_2018-19.csv\"), \"_2018_\")\n",
    "current_players = prefix(loadCSV(csvContext, \"Quotazioni_Fantacalcio.csv\"), \"c_\")"
   ]
  },
  {
   "cell_type": "markdown",
   "metadata": {},
   "source": [
    "Qui mettiamo in join tutti i file. \n",
    "\n",
    "I file vengono messi in `left join` con i giocatori della stagione corrente. \n",
    "\n",
    "Per questo motivo alcuni dei giocatori potrebbero non avere statistiche perché non hanno mai giocato nel campionato italiano."
   ]
  },
  {
   "cell_type": "code",
   "execution_count": 508,
   "metadata": {},
   "outputs": [],
   "source": [
    "current_2015 = current_players.join(players_2015, current_players.c_Nome == players_2015._2015_Nome, how = 'left')\n",
    "current_2015_2016 = current_2015.join(players_2016, current_2015.c_Nome == players_2016._2016_Nome, how = 'left')\n",
    "current_2015_2016_2017 = current_2015_2016.join(players_2017, current_2015_2016.c_Nome == players_2017._2017_Nome, how = 'left')\n",
    "current_2015_2016_2017_2018 = current_2015_2016_2017.join(players_2018, current_2015_2016_2017.c_Nome == players_2018._2018_Nome, how = 'left')\n",
    "current_2015_2016_2017_2018 = current_2015_2016_2017_2018.withColumn(\"NEW\", when(col(\"_2018_Squadra\").isNull(), lit(\"Y\")).otherwise(lit(\"N\")))\n",
    "\n",
    "columns_to_drop = [\"_2018_Nome\", \"_2017_Nome\", \"_2016_Nome\", \"_2015_Nome\",\n",
    "                   \"_2018_R\", \"_2017_R\", \"_2016_R\", \"_2015_R\",\n",
    "                   \"_2018_Id\", \"_2017_Id\", \"_2016_Id\", \"_2015_Id\",\n",
    "                   \"_2018_Squadra\", \"_2017_Squadra\", \"_2016_Squadra\", \"_2015_Squadra\",\n",
    "                   \"c_Id\", \"c_Qt. I\", \"c_Diff.\"]\n",
    "\n",
    "finalRoster = current_2015_2016_2017_2018.drop(*columns_to_drop)"
   ]
  },
  {
   "cell_type": "markdown",
   "metadata": {},
   "source": [
    "Qui è possible fare check intermedi"
   ]
  },
  {
   "cell_type": "code",
   "execution_count": 509,
   "metadata": {},
   "outputs": [
    {
     "name": "stdout",
     "output_type": "stream",
     "text": [
      "+-----------------+-------+--------+--------+--------+--------+-------+-------+-------+-------+\n",
      "|           c_Nome|Au Pond|_2018_Au|_2017_Au|_2016_Au|_2015_Au|AuW2018|AuW2017|AuW2016|AuW2015|\n",
      "+-----------------+-------+--------+--------+--------+--------+-------+-------+-------+-------+\n",
      "|CRISTIANO RONALDO|    0.0|       0|       0|       0|       0|      0|      0|      0|      0|\n",
      "|           PIATEK|    0.0|       0|       0|       0|       0|      0|      0|      0|      0|\n",
      "|         IMMOBILE|    0.0|       0|       0|       0|       0|      0|      0|      0|      0|\n",
      "|         LUKAKU R|    0.0|       0|       0|       0|       0|      0|      0|      0|      0|\n",
      "|         ZAPATA D|    0.0|       0|       0|       0|       0|      0|      0|      0|      0|\n",
      "|     QUAGLIARELLA|    0.0|       0|       0|       0|       0|      0|      0|      0|      0|\n",
      "|           ICARDI|    1.0|       0|       0|       1|       0|      0|      0|      2|      0|\n",
      "|            DZEKO|    0.0|       0|       0|       0|       0|      0|      0|      0|      0|\n",
      "|          BELOTTI|    0.0|       0|       0|       0|       0|      0|      0|      0|      0|\n",
      "|          HIGUAIN|    0.0|       0|       0|       0|       0|      0|      0|      0|      0|\n",
      "|          INSIGNE|    0.0|       0|       0|       0|       0|      0|      0|      0|      0|\n",
      "|          MERTENS|    0.0|       0|       0|       0|       0|      0|      0|      0|      0|\n",
      "|            MILIK|    0.0|       0|       0|       0|       0|      0|      0|      0|      0|\n",
      "|           CAPUTO|    0.0|       0|       0|       0|       0|      0|      0|      0|      0|\n",
      "|          GOMEZ A|    0.0|       0|       0|       0|       0|      0|      0|      0|      0|\n",
      "|           CHIESA|    0.0|       0|       0|       0|       0|      0|      0|      0|      0|\n",
      "|           DYBALA|    0.0|       0|       0|       0|       0|      0|      0|      0|      0|\n",
      "|          PETAGNA|    0.0|       0|       0|       0|       0|      0|      0|      0|      0|\n",
      "|           ILICIC|    0.0|       0|       0|       0|       0|      0|      0|      0|      0|\n",
      "|        PAVOLETTI|    0.0|       0|       0|       0|       0|      0|      0|      0|      0|\n",
      "+-----------------+-------+--------+--------+--------+--------+-------+-------+-------+-------+\n",
      "only showing top 20 rows\n",
      "\n"
     ]
    }
   ],
   "source": [
    "weight = weight_mean(finalRoster, \"Au\")\n",
    "showValues(weight, \"Au\")"
   ]
  },
  {
   "cell_type": "markdown",
   "metadata": {},
   "source": [
    "Una volta fatti i join, i dati vengono associati insieme a partire dal *2018-2019* al *2015-2016*."
   ]
  },
  {
   "cell_type": "code",
   "execution_count": 510,
   "metadata": {},
   "outputs": [],
   "source": [
    "finalRoster = weight_fields(finalRoster, \"Mv\", \"Media Voto\")\n",
    "finalRoster = weight_fields(finalRoster, \"Mf\", \"Media Fantavoto\")\n",
    "finalRoster = weight_fields(finalRoster, \"Asf\", \"Assist da fermo\")\n",
    "finalRoster = weight_fields(finalRoster, \"Ass\", \"Assist\")\n",
    "finalRoster = weight_fields(finalRoster, \"Amm\", \"Amm\")\n",
    "finalRoster = weight_fields(finalRoster, \"Au\", \"Autogoal\")\n",
    "finalRoster = weight_fields(finalRoster, \"Esp\", \"Espulsioni\")\n",
    "finalRoster = weight_fields(finalRoster, \"R+\", \"Rigori Segnati\")\n",
    "finalRoster = weight_fields(finalRoster, \"R-\", \"Rigori Sbagliati\")\n",
    "finalRoster = weight_fields(finalRoster, \"Pg\", \"Partite Giocate\")\n",
    "finalRoster = weight_fields(finalRoster, \"Gf\", \"Goal Fatti\")\n",
    "finalRoster = weight_fields(finalRoster, \"Gs\", \"Goal Subiti\")\n",
    "finalRoster = weight_fields(finalRoster, \"Rp\", \"Rigori Parati\")\n",
    "finalRoster = weight_fields(finalRoster, \"Rc\", \"Rigori Calciati\")\n",
    "\n",
    "finalRoster = finalRoster.withColumnRenamed(\"c_R\", \"Ruolo\")\n",
    "finalRoster = finalRoster.withColumnRenamed(\"c_Squadra\", \"Squadra\")\n",
    "finalRoster = finalRoster.withColumnRenamed(\"c_Nome\", \"Nome\")\n",
    "finalRoster = finalRoster.withColumnRenamed(\"c_Qt. A\", \"Quotazione\")\n",
    "finalRoster = finalRoster.withColumnRenamed(\"MF\", \"_2018_Mf\")\n",
    "\n"
   ]
  },
  {
   "cell_type": "markdown",
   "metadata": {},
   "source": [
    "Ogni ruolo ha dei campi che non interessano, per esempio gli assist per i portieri. Ricorda che devi sempre assegnare la variabile al risultato.\n",
    "\n",
    "Qui filtriamo per ruolo ed eliminiamo i campi non interessanti.\n",
    "\n",
    "I metodi disponibili li puoi trovare qui. Generalmente puoi usare *sql like* queries dentro i metodi, guarda per esempio `filter`: https://spark.apache.org/docs/2.1.0/api/python/pyspark.sql.html#pyspark.sql.DataFrame"
   ]
  },
  {
   "cell_type": "code",
   "execution_count": null,
   "metadata": {},
   "outputs": [],
   "source": [
    "finalRoster.write.format('csv').option(\"header\", \"true\").save('fantacalcio-stats.csv')"
   ]
  },
  {
   "cell_type": "code",
   "execution_count": null,
   "metadata": {},
   "outputs": [],
   "source": [
    "columns_to_drop_keepers = [\"Assist\", \"Rigori Sbagliati\", \"Ruolo\", \"Goal Fatti\"]\n",
    "keepers = finalRoster.filter(\"Ruolo == 'P'\").drop(*columns_to_drop_keepers)"
   ]
  },
  {
   "cell_type": "markdown",
   "metadata": {},
   "source": [
    "Per mostrare il risultato finale basta usare il metodo `display` e chiamare `.toPandas()` sul dataframe."
   ]
  },
  {
   "cell_type": "code",
   "execution_count": null,
   "metadata": {},
   "outputs": [],
   "source": [
    "display(keepers.select(\"Nome\", \"New\").toPandas())\n",
    "#keepers.select(\"Au Pond\", \"Autogoal\").show()"
   ]
  },
  {
   "cell_type": "code",
   "execution_count": null,
   "metadata": {},
   "outputs": [],
   "source": []
  }
 ],
 "metadata": {
  "kernelspec": {
   "display_name": "Python 3",
   "language": "python",
   "name": "python3"
  },
  "language_info": {
   "codemirror_mode": {
    "name": "ipython",
    "version": 3
   },
   "file_extension": ".py",
   "mimetype": "text/x-python",
   "name": "python",
   "nbconvert_exporter": "python",
   "pygments_lexer": "ipython3",
   "version": "3.7.3"
  }
 },
 "nbformat": 4,
 "nbformat_minor": 2
}
